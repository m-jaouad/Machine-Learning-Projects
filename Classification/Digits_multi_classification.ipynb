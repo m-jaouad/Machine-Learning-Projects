{
 "cells": [
  {
   "cell_type": "code",
   "execution_count": 1,
   "id": "acaf230a",
   "metadata": {},
   "outputs": [],
   "source": [
    "import numpy as np \n",
    "import pandas as pd \n",
    "import matplotlib.pyplot as plt \n",
    "%matplotlib  inline "
   ]
  },
  {
   "cell_type": "code",
   "execution_count": 2,
   "id": "18d90cdf",
   "metadata": {},
   "outputs": [],
   "source": [
    "from sklearn.datasets import load_digits"
   ]
  },
  {
   "cell_type": "code",
   "execution_count": 5,
   "id": "a8f16403",
   "metadata": {},
   "outputs": [
    {
     "data": {
      "text/plain": [
       "['data', 'target', 'frame', 'feature_names', 'target_names', 'images', 'DESCR']"
      ]
     },
     "execution_count": 5,
     "metadata": {},
     "output_type": "execute_result"
    }
   ],
   "source": [
    "# loading the digits dataset\n",
    "dataset = load_digits()\n",
    "list(dataset.keys())"
   ]
  },
  {
   "cell_type": "code",
   "execution_count": 6,
   "id": "a2abb145",
   "metadata": {},
   "outputs": [
    {
     "name": "stdout",
     "output_type": "stream",
     "text": [
      ".. _digits_dataset:\n",
      "\n",
      "Optical recognition of handwritten digits dataset\n",
      "--------------------------------------------------\n",
      "\n",
      "**Data Set Characteristics:**\n",
      "\n",
      "    :Number of Instances: 1797\n",
      "    :Number of Attributes: 64\n",
      "    :Attribute Information: 8x8 image of integer pixels in the range 0..16.\n",
      "    :Missing Attribute Values: None\n",
      "    :Creator: E. Alpaydin (alpaydin '@' boun.edu.tr)\n",
      "    :Date: July; 1998\n",
      "\n",
      "This is a copy of the test set of the UCI ML hand-written digits datasets\n",
      "https://archive.ics.uci.edu/ml/datasets/Optical+Recognition+of+Handwritten+Digits\n",
      "\n",
      "The data set contains images of hand-written digits: 10 classes where\n",
      "each class refers to a digit.\n",
      "\n",
      "Preprocessing programs made available by NIST were used to extract\n",
      "normalized bitmaps of handwritten digits from a preprinted form. From a\n",
      "total of 43 people, 30 contributed to the training set and different 13\n",
      "to the test set. 32x32 bitmaps are divided into nonoverlapping blocks of\n",
      "4x4 and the number of on pixels are counted in each block. This generates\n",
      "an input matrix of 8x8 where each element is an integer in the range\n",
      "0..16. This reduces dimensionality and gives invariance to small\n",
      "distortions.\n",
      "\n",
      "For info on NIST preprocessing routines, see M. D. Garris, J. L. Blue, G.\n",
      "T. Candela, D. L. Dimmick, J. Geist, P. J. Grother, S. A. Janet, and C.\n",
      "L. Wilson, NIST Form-Based Handprint Recognition System, NISTIR 5469,\n",
      "1994.\n",
      "\n",
      ".. topic:: References\n",
      "\n",
      "  - C. Kaynak (1995) Methods of Combining Multiple Classifiers and Their\n",
      "    Applications to Handwritten Digit Recognition, MSc Thesis, Institute of\n",
      "    Graduate Studies in Science and Engineering, Bogazici University.\n",
      "  - E. Alpaydin, C. Kaynak (1998) Cascading Classifiers, Kybernetika.\n",
      "  - Ken Tang and Ponnuthurai N. Suganthan and Xi Yao and A. Kai Qin.\n",
      "    Linear dimensionalityreduction using relevance weighted LDA. School of\n",
      "    Electrical and Electronic Engineering Nanyang Technological University.\n",
      "    2005.\n",
      "  - Claudio Gentile. A New Approximate Maximal Margin Classification\n",
      "    Algorithm. NIPS. 2000.\n",
      "\n"
     ]
    }
   ],
   "source": [
    "print(dataset['DESCR'])"
   ]
  },
  {
   "cell_type": "markdown",
   "id": "86afd4a4",
   "metadata": {},
   "source": [
    "## Exploration des données "
   ]
  },
  {
   "cell_type": "code",
   "execution_count": null,
   "id": "79422aaf",
   "metadata": {},
   "outputs": [],
   "source": []
  },
  {
   "cell_type": "code",
   "execution_count": null,
   "id": "71a99f7b",
   "metadata": {},
   "outputs": [],
   "source": []
  },
  {
   "cell_type": "code",
   "execution_count": 15,
   "id": "fa5f185d",
   "metadata": {},
   "outputs": [
    {
     "name": "stdout",
     "output_type": "stream",
     "text": [
      "Target variables  :  [0 1 2 3 4 5 6 7 8 9]\n",
      "Unique values of the target variable [0 1 2 3 4 5 6 7 8 9]\n",
      "Counts of the target variable : [178 182 177 183 181 182 181 179 174 180]\n"
     ]
    }
   ],
   "source": [
    "import numpy as np\n",
    "\n",
    "print('Target variables  : ', dataset['target_names'])\n",
    "\n",
    "(unique, counts) = np.unique(dataset['target'], return_counts=True)\n",
    "\n",
    "print('Unique values of the target variable', unique)\n",
    "print('Counts of the target variable :', counts)"
   ]
  },
  {
   "cell_type": "code",
   "execution_count": 21,
   "id": "644d25b6",
   "metadata": {},
   "outputs": [
    {
     "data": {
      "image/png": "[encoded data removed]",
      "text/plain": [
       "<Figure size 432x288 with 1 Axes>"
      ]
     },
     "metadata": {
      "needs_background": "light"
     },
     "output_type": "display_data"
    }
   ],
   "source": [
    "import seaborn as sns\n",
    "import matplotlib.pyplot as plt\n",
    "\n",
    "sns.barplot(x=dataset['target_names'], y=counts)\n",
    "plt.title('Target variable counts in dataset')\n",
    "plt.show()"
   ]
  },
  {
   "cell_type": "markdown",
   "id": "36ba1b08",
   "metadata": {},
   "source": [
    "## Classification binaire avec Logistic Regression"
   ]
  },
  {
   "cell_type": "code",
   "execution_count": 22,
   "id": "062f6d1e",
   "metadata": {},
   "outputs": [],
   "source": [
    "# Step 1: Define explonatory variables and target variable\n",
    "\n",
    "X = dataset['data']\n",
    "y = dataset['target']"
   ]
  },
  {
   "cell_type": "code",
   "execution_count": 23,
   "id": "02ace836",
   "metadata": {},
   "outputs": [],
   "source": [
    "# Step 2:  Apply normalization operation for numerical stability\n",
    "\n",
    "from sklearn.preprocessing import StandardScaler\n",
    "standardizer = StandardScaler()\n",
    "X = standardizer.fit_transform(X)\n"
   ]
  },
  {
   "cell_type": "code",
   "execution_count": 24,
   "id": "0463edbd",
   "metadata": {},
   "outputs": [],
   "source": [
    "# Step 3: Split the dataset into training and testing sets\n",
    "\n",
    "from sklearn.model_selection import train_test_split\n",
    "\n",
    "X_train, X_test, y_train, y_test = train_test_split(X, y , test_size=0.25, random_state=0)"
   ]
  },
  {
   "cell_type": "code",
   "execution_count": 25,
   "id": "af06206a",
   "metadata": {},
   "outputs": [
    {
     "data": {
      "text/plain": [
       "LogisticRegression()"
      ]
     },
     "execution_count": 25,
     "metadata": {},
     "output_type": "execute_result"
    }
   ],
   "source": [
    "# Step 4: Fit a Logistic Regression Model to the train data\n",
    "\n",
    "from sklearn.linear_model import LogisticRegression\n",
    "log_reg = LogisticRegression()\n",
    "log_reg.fit(X_train, y_train)\n"
   ]
  },
  {
   "cell_type": "code",
   "execution_count": 26,
   "id": "87a0ba05",
   "metadata": {},
   "outputs": [
    {
     "name": "stdout",
     "output_type": "stream",
     "text": [
      "[2 8 2 6 6 7 1 9 8 5 2 8 6 6 6 6 1 0 5 8 8 7 8 4 7 5 4 9 2 9 4 7 6 8 9 4 3\n",
      " 1 0 1 8 6 7 7 1 0 7 6 2 1 9 6 7 9 0 0 9 1 6 3 0 2 3 4 1 9 2 6 9 1 8 3 5 1\n",
      " 2 8 2 2 9 7 2 3 6 0 5 3 7 5 1 2 9 9 3 1 4 7 4 8 5 8 5 5 2 5 9 0 7 1 4 7 3\n",
      " 4 8 9 7 9 8 2 1 5 2 5 8 4 1 7 0 6 1 5 5 9 9 5 9 9 5 7 5 6 2 8 6 9 6 1 5 1\n",
      " 5 9 9 1 5 3 6 1 8 9 8 7 6 7 6 5 6 0 8 8 9 8 6 1 0 4 1 6 3 8 6 7 4 9 6 3 0\n",
      " 3 3 3 0 7 7 5 7 8 0 7 1 9 6 4 5 0 1 4 6 4 3 3 0 9 5 9 2 1 4 2 1 6 8 9 2 4\n",
      " 9 3 7 6 2 3 3 1 6 9 3 6 3 2 2 0 7 6 1 1 9 7 2 7 8 5 5 7 5 2 3 7 2 7 5 5 7\n",
      " 0 9 1 6 5 9 7 4 3 8 0 3 6 4 6 3 2 6 8 8 8 4 6 7 5 2 4 5 3 2 4 6 9 4 5 4 3\n",
      " 4 6 2 9 0 8 7 2 0 9 6 0 4 2 0 7 9 8 5 7 8 2 8 4 3 7 2 6 9 9 5 1 0 8 2 8 9\n",
      " 5 6 2 2 7 2 1 5 1 6 4 5 0 9 4 1 1 7 0 8 9 0 5 4 3 8 8 6 5 3 4 4 4 8 8 7 0\n",
      " 9 6 3 5 2 3 0 8 8 3 1 3 3 0 0 4 6 0 7 7 6 2 0 4 4 2 3 7 1 9 8 6 8 5 6 2 2\n",
      " 3 1 7 7 8 0 3 3 2 1 5 5 9 1 3 7 0 0 7 0 4 5 9 3 3 4 3 1 8 9 8 3 6 3 1 6 2\n",
      " 1 7 5 5 1 9]\n"
     ]
    }
   ],
   "source": [
    "# Step 5: Make predictions on the testing data\n",
    "\n",
    "y_pred = log_reg.predict(X_test)\n",
    "\n",
    "print(y_pred)"
   ]
  },
  {
   "cell_type": "code",
   "execution_count": 27,
   "id": "a1eefa36",
   "metadata": {},
   "outputs": [
    {
     "name": "stdout",
     "output_type": "stream",
     "text": [
      "[[1.60431187e-07 1.68776102e-06 9.99977460e-01 ... 1.05648755e-05\n",
      "  7.46813560e-07 3.02862229e-07]\n",
      " [8.10958593e-05 6.22908608e-04 6.56525946e-03 ... 1.36927231e-05\n",
      "  8.85347425e-01 4.39997365e-04]\n",
      " [1.05633800e-10 6.78520199e-07 9.99995816e-01 ... 1.44366811e-08\n",
      "  2.70602353e-08 7.26108163e-10]\n",
      " ...\n",
      " [8.52042070e-06 3.05480053e-07 1.66325819e-08 ... 6.86311460e-08\n",
      "  6.11226836e-06 1.19866893e-04]\n",
      " [1.41011488e-06 8.63241443e-01 2.90409731e-04 ... 1.10408303e-05\n",
      "  9.13773144e-02 6.64673686e-06]\n",
      " [4.40032549e-05 1.04528558e-08 2.20654520e-07 ... 1.79475517e-06\n",
      "  6.06047951e-05 9.98743434e-01]]\n"
     ]
    }
   ],
   "source": [
    "y_proba = log_reg.predict_proba(X_test)\n",
    "print(y_proba)"
   ]
  },
  {
   "cell_type": "markdown",
   "id": "579d824e",
   "metadata": {},
   "source": [
    "## Evaluation de la perfomance du modèle"
   ]
  },
  {
   "cell_type": "markdown",
   "id": "017a55d6",
   "metadata": {},
   "source": [
    "### Accuracy Score¶"
   ]
  },
  {
   "cell_type": "code",
   "execution_count": 28,
   "id": "ade7f729",
   "metadata": {},
   "outputs": [
    {
     "data": {
      "text/plain": [
       "0.9666666666666667"
      ]
     },
     "execution_count": 28,
     "metadata": {},
     "output_type": "execute_result"
    }
   ],
   "source": [
    "from sklearn.metrics import accuracy_score\n",
    "\n",
    "accuracy_score(y_test, y_pred)"
   ]
  },
  {
   "cell_type": "markdown",
   "id": "78292de2",
   "metadata": {},
   "source": [
    "### Confusion matrix"
   ]
  },
  {
   "cell_type": "code",
   "execution_count": 29,
   "id": "f4a3b7a4",
   "metadata": {},
   "outputs": [
    {
     "name": "stdout",
     "output_type": "stream",
     "text": [
      "[[37  0  0  0  0  0  0  0  0  0]\n",
      " [ 0 40  0  0  0  0  0  0  2  1]\n",
      " [ 0  0 43  1  0  0  0  0  0  0]\n",
      " [ 0  0  0 44  0  0  0  0  1  0]\n",
      " [ 0  0  0  0 37  0  0  1  0  0]\n",
      " [ 0  0  0  0  0 46  0  0  0  2]\n",
      " [ 0  1  0  0  0  0 51  0  0  0]\n",
      " [ 0  0  0  0  1  0  0 47  0  0]\n",
      " [ 0  3  1  0  0  0  0  0 44  0]\n",
      " [ 0  0  0  0  0  1  0  0  0 46]]\n"
     ]
    }
   ],
   "source": [
    "from sklearn.metrics import confusion_matrix\n",
    "\n",
    "conf_matrix = confusion_matrix(y_test, y_pred)\n",
    "\n",
    "print(conf_matrix)"
   ]
  },
  {
   "cell_type": "code",
   "execution_count": 33,
   "id": "2ae93c44",
   "metadata": {},
   "outputs": [
    {
     "data": {
      "text/plain": [
       "<AxesSubplot:title={'center':'Confusion Matrix'}, xlabel='Predicted', ylabel='Actual'>"
      ]
     },
     "execution_count": 33,
     "metadata": {},
     "output_type": "execute_result"
    },
    {
     "data": {
      "image/png": "[encoded data removed]",
      "text/plain": [
       "<Figure size 432x288 with 2 Axes>"
      ]
     },
     "metadata": {},
     "output_type": "display_data"
    }
   ],
   "source": [
    "df_cm = pd.DataFrame(conf_matrix, columns=np.unique(y_test), index = np.unique(y_test))\n",
    "df_cm.index.name = 'Actual'\n",
    "df_cm.columns.name = 'Predicted'\n",
    "\n",
    "sns.set(font_scale=1.4)#for label size\n",
    "plt.title('Confusion Matrix')\n",
    "sns.heatmap(df_cm, annot=True,annot_kws={\"size\": 12})# font size"
   ]
  },
  {
   "cell_type": "markdown",
   "id": "3e4832e3",
   "metadata": {},
   "source": [
    "## Averaging strategies"
   ]
  },
  {
   "cell_type": "code",
   "execution_count": 34,
   "id": "67412071",
   "metadata": {},
   "outputs": [
    {
     "name": "stdout",
     "output_type": "stream",
     "text": [
      "macro-averaging Recall = 0.967\n",
      "micro-averaging Recall = 0.967\n",
      "weighted-averaging Recall = 0.967\n",
      "macro-averaging Precision = 0.967\n",
      "micro-averaging Precision = 0.967\n",
      "weighted-averaging Precision = 0.967\n",
      "macro-averaging F1_measure = 0.967\n",
      "micro-averaging F1_measureF1_measure = 0.967\n",
      "weighted-averaging F1_measureF1_measure = 0.967\n"
     ]
    }
   ],
   "source": [
    "from sklearn.metrics import precision_score, recall_score, f1_score, classification_report\n",
    "\n",
    "print('macro-averaging Recall = {:0.3f}'.format(recall_score(y_test, y_pred, average='macro')))\n",
    "print('micro-averaging Recall = {:0.3f}'.format(recall_score(y_test, y_pred, average='micro')))\n",
    "print('weighted-averaging Recall = {:0.3f}'.format(recall_score(y_test, y_pred, average='weighted')))\n",
    "print('macro-averaging Precision = {:0.3f}'.format(precision_score(y_test, y_pred, average='macro')))\n",
    "print('micro-averaging Precision = {:0.3f}'.format(precision_score(y_test, y_pred, average='micro')))\n",
    "print('weighted-averaging Precision = {:0.3f}'.format(precision_score(y_test, y_pred, average='weighted')))\n",
    "print('macro-averaging F1_measure = {:0.3f}'.format(f1_score(y_test, y_pred, average='macro')))\n",
    "print('micro-averaging F1_measureF1_measure = {:0.3f}'.format(f1_score(y_test, y_pred, average='micro')))\n",
    "print('weighted-averaging F1_measureF1_measure = {:0.3f}'.format(f1_score(y_test, y_pred, average='weighted')))"
   ]
  },
  {
   "cell_type": "code",
   "execution_count": 35,
   "id": "d7185871",
   "metadata": {},
   "outputs": [
    {
     "name": "stdout",
     "output_type": "stream",
     "text": [
      "              precision    recall  f1-score   support\n",
      "\n",
      "           0       1.00      1.00      1.00        37\n",
      "           1       0.91      0.93      0.92        43\n",
      "           2       0.98      0.98      0.98        44\n",
      "           3       0.98      0.98      0.98        45\n",
      "           4       0.97      0.97      0.97        38\n",
      "           5       0.98      0.96      0.97        48\n",
      "           6       1.00      0.98      0.99        52\n",
      "           7       0.98      0.98      0.98        48\n",
      "           8       0.94      0.92      0.93        48\n",
      "           9       0.94      0.98      0.96        47\n",
      "\n",
      "    accuracy                           0.97       450\n",
      "   macro avg       0.97      0.97      0.97       450\n",
      "weighted avg       0.97      0.97      0.97       450\n",
      "\n"
     ]
    }
   ],
   "source": [
    "from sklearn.metrics import classification_report\n",
    "\n",
    "print(classification_report(y_test, y_pred))"
   ]
  },
  {
   "cell_type": "markdown",
   "id": "5ee80f27",
   "metadata": {},
   "source": [
    "## \"Softmax Regression\" pour la classification "
   ]
  },
  {
   "cell_type": "code",
   "execution_count": 36,
   "id": "011bbdb5",
   "metadata": {},
   "outputs": [
    {
     "name": "stdout",
     "output_type": "stream",
     "text": [
      "              precision    recall  f1-score   support\n",
      "\n",
      "           0       1.00      1.00      1.00        37\n",
      "           1       0.91      0.93      0.92        43\n",
      "           2       0.98      0.98      0.98        44\n",
      "           3       0.98      0.98      0.98        45\n",
      "           4       0.97      0.97      0.97        38\n",
      "           5       0.98      0.96      0.97        48\n",
      "           6       1.00      0.98      0.99        52\n",
      "           7       0.98      0.98      0.98        48\n",
      "           8       0.94      0.92      0.93        48\n",
      "           9       0.94      0.98      0.96        47\n",
      "\n",
      "    accuracy                           0.97       450\n",
      "   macro avg       0.97      0.97      0.97       450\n",
      "weighted avg       0.97      0.97      0.97       450\n",
      "\n"
     ]
    }
   ],
   "source": [
    "softmax_reg = LogisticRegression(solver='lbfgs', multi_class='multinomial')\n",
    "softmax_reg.fit(X_train, y_train)\n",
    "y_pred = softmax_reg.predict(X_test)\n",
    "\n",
    "print(classification_report(y_test, y_pred))"
   ]
  },
  {
   "cell_type": "code",
   "execution_count": 37,
   "id": "abf811f8",
   "metadata": {},
   "outputs": [
    {
     "name": "stdout",
     "output_type": "stream",
     "text": [
      "macro-averaging Recall = 0.967\n",
      "micro-averaging Recall = 0.967\n",
      "weighted-averaging Recall = 0.967\n",
      "macro-averaging Precision = 0.967\n",
      "micro-averaging Precision = 0.967\n",
      "weighted-averaging Precision = 0.967\n",
      "macro-averaging F1_measure = 0.967\n",
      "micro-averaging F1_measureF1_measure = 0.967\n",
      "weighted-averaging F1_measureF1_measure = 0.967\n"
     ]
    }
   ],
   "source": [
    "print('macro-averaging Recall = {:0.3f}'.format(recall_score(y_test, y_pred, average='macro')))\n",
    "print('micro-averaging Recall = {:0.3f}'.format(recall_score(y_test, y_pred, average='micro')))\n",
    "print('weighted-averaging Recall = {:0.3f}'.format(recall_score(y_test, y_pred, average='weighted')))\n",
    "print('macro-averaging Precision = {:0.3f}'.format(precision_score(y_test, y_pred, average='macro')))\n",
    "print('micro-averaging Precision = {:0.3f}'.format(precision_score(y_test, y_pred, average='micro')))\n",
    "print('weighted-averaging Precision = {:0.3f}'.format(precision_score(y_test, y_pred, average='weighted')))\n",
    "print('macro-averaging F1_measure = {:0.3f}'.format(f1_score(y_test, y_pred, average='macro')))\n",
    "print('micro-averaging F1_measureF1_measure = {:0.3f}'.format(f1_score(y_test, y_pred, average='micro')))\n",
    "print('weighted-averaging F1_measureF1_measure = {:0.3f}'.format(f1_score(y_test, y_pred, average='weighted')))"
   ]
  }
 ],
 "metadata": {
  "kernelspec": {
   "display_name": "Python 3 (ipykernel)",
   "language": "python",
   "name": "python3"
  },
  "language_info": {
   "codemirror_mode": {
    "name": "ipython",
    "version": 3
   },
   "file_extension": ".py",
   "mimetype": "text/x-python",
   "name": "python",
   "nbconvert_exporter": "python",
   "pygments_lexer": "ipython3",
   "version": "3.10.2"
  }
 },
 "nbformat": 4,
 "nbformat_minor": 5
}
