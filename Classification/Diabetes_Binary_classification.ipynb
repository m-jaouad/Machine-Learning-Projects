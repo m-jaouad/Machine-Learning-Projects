{
 "cells": [
  {
   "cell_type": "code",
   "execution_count": 3,
   "id": "c6c9c72c",
   "metadata": {},
   "outputs": [],
   "source": [
    "import numpy as np \n",
    "import pandas as pd \n",
    "import matplotlib.pyplot as plt \n",
    "%matplotlib  inline "
   ]
  },
  {
   "cell_type": "markdown",
   "id": "f462a847",
   "metadata": {},
   "source": [
    "# Exploration des données\n"
   ]
  },
  {
   "cell_type": "code",
   "execution_count": 4,
   "id": "95c7e9dc",
   "metadata": {},
   "outputs": [],
   "source": [
    "data = pd.read_csv('diabetes.csv')"
   ]
  },
  {
   "cell_type": "code",
   "execution_count": 5,
   "id": "c8767864",
   "metadata": {},
   "outputs": [
    {
     "data": {
      "text/html": [
       "<div>\n",
       "<style scoped>\n",
       "    .dataframe tbody tr th:only-of-type {\n",
       "        vertical-align: middle;\n",
       "    }\n",
       "\n",
       "    .dataframe tbody tr th {\n",
       "        vertical-align: top;\n",
       "    }\n",
       "\n",
       "    .dataframe thead th {\n",
       "        text-align: right;\n",
       "    }\n",
       "</style>\n",
       "<table border=\"1\" class=\"dataframe\">\n",
       "  <thead>\n",
       "    <tr style=\"text-align: right;\">\n",
       "      <th></th>\n",
       "      <th>Pregnancies</th>\n",
       "      <th>Glucose</th>\n",
       "      <th>BloodPressure</th>\n",
       "      <th>SkinThickness</th>\n",
       "      <th>Insulin</th>\n",
       "      <th>BMI</th>\n",
       "      <th>DiabetesPedigreeFunction</th>\n",
       "      <th>Age</th>\n",
       "      <th>Outcome</th>\n",
       "    </tr>\n",
       "  </thead>\n",
       "  <tbody>\n",
       "    <tr>\n",
       "      <th>0</th>\n",
       "      <td>6</td>\n",
       "      <td>148</td>\n",
       "      <td>72</td>\n",
       "      <td>35</td>\n",
       "      <td>0</td>\n",
       "      <td>33.6</td>\n",
       "      <td>0.627</td>\n",
       "      <td>50</td>\n",
       "      <td>1</td>\n",
       "    </tr>\n",
       "    <tr>\n",
       "      <th>1</th>\n",
       "      <td>1</td>\n",
       "      <td>85</td>\n",
       "      <td>66</td>\n",
       "      <td>29</td>\n",
       "      <td>0</td>\n",
       "      <td>26.6</td>\n",
       "      <td>0.351</td>\n",
       "      <td>31</td>\n",
       "      <td>0</td>\n",
       "    </tr>\n",
       "    <tr>\n",
       "      <th>2</th>\n",
       "      <td>8</td>\n",
       "      <td>183</td>\n",
       "      <td>64</td>\n",
       "      <td>0</td>\n",
       "      <td>0</td>\n",
       "      <td>23.3</td>\n",
       "      <td>0.672</td>\n",
       "      <td>32</td>\n",
       "      <td>1</td>\n",
       "    </tr>\n",
       "    <tr>\n",
       "      <th>3</th>\n",
       "      <td>1</td>\n",
       "      <td>89</td>\n",
       "      <td>66</td>\n",
       "      <td>23</td>\n",
       "      <td>94</td>\n",
       "      <td>28.1</td>\n",
       "      <td>0.167</td>\n",
       "      <td>21</td>\n",
       "      <td>0</td>\n",
       "    </tr>\n",
       "    <tr>\n",
       "      <th>4</th>\n",
       "      <td>0</td>\n",
       "      <td>137</td>\n",
       "      <td>40</td>\n",
       "      <td>35</td>\n",
       "      <td>168</td>\n",
       "      <td>43.1</td>\n",
       "      <td>2.288</td>\n",
       "      <td>33</td>\n",
       "      <td>1</td>\n",
       "    </tr>\n",
       "  </tbody>\n",
       "</table>\n",
       "</div>"
      ],
      "text/plain": [
       "   Pregnancies  Glucose  BloodPressure  SkinThickness  Insulin   BMI  \\\n",
       "0            6      148             72             35        0  33.6   \n",
       "1            1       85             66             29        0  26.6   \n",
       "2            8      183             64              0        0  23.3   \n",
       "3            1       89             66             23       94  28.1   \n",
       "4            0      137             40             35      168  43.1   \n",
       "\n",
       "   DiabetesPedigreeFunction  Age  Outcome  \n",
       "0                     0.627   50        1  \n",
       "1                     0.351   31        0  \n",
       "2                     0.672   32        1  \n",
       "3                     0.167   21        0  \n",
       "4                     2.288   33        1  "
      ]
     },
     "execution_count": 5,
     "metadata": {},
     "output_type": "execute_result"
    }
   ],
   "source": [
    "data.head()"
   ]
  },
  {
   "cell_type": "code",
   "execution_count": 6,
   "id": "c1126382",
   "metadata": {},
   "outputs": [
    {
     "name": "stdout",
     "output_type": "stream",
     "text": [
      "<class 'pandas.core.frame.DataFrame'>\n",
      "RangeIndex: 768 entries, 0 to 767\n",
      "Data columns (total 9 columns):\n",
      " #   Column                    Non-Null Count  Dtype  \n",
      "---  ------                    --------------  -----  \n",
      " 0   Pregnancies               768 non-null    int64  \n",
      " 1   Glucose                   768 non-null    int64  \n",
      " 2   BloodPressure             768 non-null    int64  \n",
      " 3   SkinThickness             768 non-null    int64  \n",
      " 4   Insulin                   768 non-null    int64  \n",
      " 5   BMI                       768 non-null    float64\n",
      " 6   DiabetesPedigreeFunction  768 non-null    float64\n",
      " 7   Age                       768 non-null    int64  \n",
      " 8   Outcome                   768 non-null    int64  \n",
      "dtypes: float64(2), int64(7)\n",
      "memory usage: 54.1 KB\n"
     ]
    }
   ],
   "source": [
    "data.info()"
   ]
  },
  {
   "cell_type": "markdown",
   "id": "47af6f9b",
   "metadata": {},
   "source": [
    "===> tous les valeurs sont numeriques \n",
    "\n",
    "==> pas de missing values "
   ]
  },
  {
   "cell_type": "code",
   "execution_count": 8,
   "id": "ee12175d",
   "metadata": {},
   "outputs": [
    {
     "name": "stdout",
     "output_type": "stream",
     "text": [
      "Unique values of the target variable [0 1]\n",
      "Counts of the target variable : [500 268]\n"
     ]
    }
   ],
   "source": [
    "\n",
    "(unique, counts) = np.unique(data['Outcome'], return_counts=True)\n",
    "\n",
    "print('Unique values of the target variable', unique)\n",
    "print('Counts of the target variable :', counts)"
   ]
  },
  {
   "cell_type": "code",
   "execution_count": 26,
   "id": "4569cbe5",
   "metadata": {},
   "outputs": [
    {
     "data": {
      "image/png": "[encoded data removed]",
      "text/plain": [
       "<Figure size 432x288 with 1 Axes>"
      ]
     },
     "metadata": {},
     "output_type": "display_data"
    }
   ],
   "source": [
    "import seaborn as sns\n",
    "import matplotlib.pyplot as plt\n",
    "\n",
    "sns.barplot(x=[\"non-diabétique\",\"diabétique\"], y=counts)\n",
    "plt.title('Target variable counts in dataset')\n",
    "plt.show()"
   ]
  },
  {
   "cell_type": "markdown",
   "id": "6a40c45d",
   "metadata": {},
   "source": [
    "# Data pre-processing "
   ]
  },
  {
   "cell_type": "code",
   "execution_count": 12,
   "id": "89e2071e",
   "metadata": {},
   "outputs": [],
   "source": [
    "# Step 1: Define explonatory variables and target variable\n",
    "\n",
    "features = ['Pregnancies', 'Glucose', 'BloodPressure', 'SkinThickness', 'Insulin',\n",
    "               'BMI', 'DiabetesPedigreeFunction', 'Age']\n",
    "\n",
    "X = data[features]\n",
    "y = data['Outcome']"
   ]
  },
  {
   "cell_type": "code",
   "execution_count": 13,
   "id": "18f67b8a",
   "metadata": {},
   "outputs": [],
   "source": [
    "# Step 2:  Apply normalization operation for numerical stability\n",
    "\n",
    "from sklearn.preprocessing import StandardScaler\n",
    "standardizer = StandardScaler()\n",
    "X = standardizer.fit_transform(X)"
   ]
  },
  {
   "cell_type": "code",
   "execution_count": 14,
   "id": "67e22a15",
   "metadata": {},
   "outputs": [],
   "source": [
    "# Step 3: Split the dataset into training and testing sets\n",
    "\n",
    "from sklearn.model_selection import train_test_split\n",
    "\n",
    "X_train, X_test, y_train, y_test = train_test_split(X, y , test_size=0.25, random_state=0)\n"
   ]
  },
  {
   "cell_type": "code",
   "execution_count": 15,
   "id": "a3eab7aa",
   "metadata": {},
   "outputs": [
    {
     "data": {
      "text/plain": [
       "LogisticRegression()"
      ]
     },
     "execution_count": 15,
     "metadata": {},
     "output_type": "execute_result"
    }
   ],
   "source": [
    "# Step 4: Fit a Logistic Regression Model to the train data\n",
    "\n",
    "from sklearn.linear_model import LogisticRegression\n",
    "log_reg = LogisticRegression()\n",
    "log_reg.fit(X_train, y_train)\n"
   ]
  },
  {
   "cell_type": "code",
   "execution_count": 16,
   "id": "71106da4",
   "metadata": {},
   "outputs": [
    {
     "name": "stdout",
     "output_type": "stream",
     "text": [
      "[1 0 0 1 0 0 1 1 0 0 1 1 0 0 0 0 1 0 0 0 1 0 0 0 0 0 0 1 0 0 0 0 0 0 0 1 0\n",
      " 0 0 1 0 0 0 1 1 0 0 0 0 0 0 0 1 0 0 0 0 1 0 0 1 0 0 1 1 1 1 0 0 0 0 0 0 1\n",
      " 1 0 0 1 0 0 0 0 0 0 0 0 0 0 1 0 0 0 0 0 1 0 0 1 1 0 0 0 0 0 1 0 0 0 0 1 0\n",
      " 0 1 0 1 1 0 1 0 1 0 0 0 0 0 0 0 0 0 0 0 0 0 1 0 0 0 0 1 0 0 1 0 0 0 0 0 0\n",
      " 0 0 0 1 0 0 1 0 1 0 0 1 1 1 0 0 1 0 0 0 0 0 0 0 0 0 1 0 0 0 0 0 0 1 0 1 0\n",
      " 0 1 0 0 0 0 0]\n"
     ]
    }
   ],
   "source": [
    "# Step 5: Make predictions on the testing data\n",
    "\n",
    "y_pred = log_reg.predict(X_test)\n",
    "\n",
    "print(y_pred)"
   ]
  },
  {
   "cell_type": "code",
   "execution_count": 17,
   "id": "21f17886",
   "metadata": {},
   "outputs": [
    {
     "name": "stdout",
     "output_type": "stream",
     "text": [
      "[[0.04287527 0.95712473]\n",
      " [0.83339217 0.16660783]\n",
      " [0.91117864 0.08882136]\n",
      " [0.36389375 0.63610625]\n",
      " [0.88147995 0.11852005]\n",
      " [0.9616617  0.0383383 ]\n",
      " [0.25557549 0.74442451]\n",
      " [0.14240513 0.85759487]\n",
      " [0.59949076 0.40050924]\n",
      " [0.61381936 0.38618064]\n",
      " [0.41553408 0.58446592]\n",
      " [0.03948784 0.96051216]\n",
      " [0.71224253 0.28775747]\n",
      " [0.81853612 0.18146388]\n",
      " [0.8738921  0.1261079 ]\n",
      " [0.83954581 0.16045419]\n",
      " [0.142193   0.857807  ]\n",
      " [0.97493439 0.02506561]\n",
      " [0.56031934 0.43968066]\n",
      " [0.75415907 0.24584093]\n",
      " [0.34240246 0.65759754]\n",
      " [0.59320098 0.40679902]\n",
      " [0.80916552 0.19083448]\n",
      " [0.93032054 0.06967946]\n",
      " [0.94825263 0.05174737]\n",
      " [0.65456933 0.34543067]\n",
      " [0.95462472 0.04537528]\n",
      " [0.08983332 0.91016668]\n",
      " [0.89255169 0.10744831]\n",
      " [0.86622599 0.13377401]\n",
      " [0.53025164 0.46974836]\n",
      " [0.74662435 0.25337565]\n",
      " [0.89854336 0.10145664]\n",
      " [0.541814   0.458186  ]\n",
      " [0.90618257 0.09381743]\n",
      " [0.31718186 0.68281814]\n",
      " [0.54230085 0.45769915]\n",
      " [0.91232461 0.08767539]\n",
      " [0.67868933 0.32131067]\n",
      " [0.27941541 0.72058459]\n",
      " [0.72078048 0.27921952]\n",
      " [0.78882946 0.21117054]\n",
      " [0.84497083 0.15502917]\n",
      " [0.19189634 0.80810366]\n",
      " [0.23118254 0.76881746]\n",
      " [0.99099755 0.00900245]\n",
      " [0.91735617 0.08264383]\n",
      " [0.80134576 0.19865424]\n",
      " [0.63971159 0.36028841]\n",
      " [0.71110706 0.28889294]\n",
      " [0.62554769 0.37445231]\n",
      " [0.82049025 0.17950975]\n",
      " [0.12430708 0.87569292]\n",
      " [0.50378975 0.49621025]\n",
      " [0.85366914 0.14633086]\n",
      " [0.99723382 0.00276618]\n",
      " [0.93770861 0.06229139]\n",
      " [0.45490205 0.54509795]\n",
      " [0.74026606 0.25973394]\n",
      " [0.94369229 0.05630771]\n",
      " [0.25821697 0.74178303]\n",
      " [0.52492832 0.47507168]\n",
      " [0.89961197 0.10038803]\n",
      " [0.33278408 0.66721592]\n",
      " [0.34141488 0.65858512]\n",
      " [0.10531125 0.89468875]\n",
      " [0.29763145 0.70236855]\n",
      " [0.86162754 0.13837246]\n",
      " [0.66644908 0.33355092]\n",
      " [0.88886918 0.11113082]\n",
      " [0.88567396 0.11432604]\n",
      " [0.65864286 0.34135714]\n",
      " [0.90065404 0.09934596]\n",
      " [0.04953961 0.95046039]\n",
      " [0.16931243 0.83068757]\n",
      " [0.69668512 0.30331488]\n",
      " [0.8749485  0.1250515 ]\n",
      " [0.366153   0.633847  ]\n",
      " [0.92579083 0.07420917]\n",
      " [0.80918379 0.19081621]\n",
      " [0.67935043 0.32064957]\n",
      " [0.59613117 0.40386883]\n",
      " [0.78571629 0.21428371]\n",
      " [0.96855372 0.03144628]\n",
      " [0.80385955 0.19614045]\n",
      " [0.79232569 0.20767431]\n",
      " [0.74201914 0.25798086]\n",
      " [0.6043491  0.3956509 ]\n",
      " [0.12380507 0.87619493]\n",
      " [0.80706117 0.19293883]\n",
      " [0.83553059 0.16446941]\n",
      " [0.82894508 0.17105492]\n",
      " [0.78334147 0.21665853]\n",
      " [0.95914602 0.04085398]\n",
      " [0.342531   0.657469  ]\n",
      " [0.81982404 0.18017596]\n",
      " [0.56697322 0.43302678]\n",
      " [0.46534528 0.53465472]\n",
      " [0.35367013 0.64632987]\n",
      " [0.76080986 0.23919014]\n",
      " [0.72641418 0.27358582]\n",
      " [0.91141039 0.08858961]\n",
      " [0.78552311 0.21447689]\n",
      " [0.96325953 0.03674047]\n",
      " [0.3690773  0.6309227 ]\n",
      " [0.65927461 0.34072539]\n",
      " [0.85941569 0.14058431]\n",
      " [0.70678748 0.29321252]\n",
      " [0.95740686 0.04259314]\n",
      " [0.2776599  0.7223401 ]\n",
      " [0.89585468 0.10414532]\n",
      " [0.68649263 0.31350737]\n",
      " [0.41225752 0.58774248]\n",
      " [0.56927107 0.43072893]\n",
      " [0.44840192 0.55159808]\n",
      " [0.39789646 0.60210354]\n",
      " [0.88641793 0.11358207]\n",
      " [0.35471716 0.64528284]\n",
      " [0.89965962 0.10034038]\n",
      " [0.24074016 0.75925984]\n",
      " [0.61801821 0.38198179]\n",
      " [0.5969676  0.4030324 ]\n",
      " [0.70849425 0.29150575]\n",
      " [0.55050136 0.44949864]\n",
      " [0.79320102 0.20679898]\n",
      " [0.95711152 0.04288848]\n",
      " [0.67733554 0.32266446]\n",
      " [0.64394007 0.35605993]\n",
      " [0.53306598 0.46693402]\n",
      " [0.65385874 0.34614126]\n",
      " [0.63927577 0.36072423]\n",
      " [0.97054518 0.02945482]\n",
      " [0.94386561 0.05613439]\n",
      " [0.21951969 0.78048031]\n",
      " [0.69901159 0.30098841]\n",
      " [0.59484508 0.40515492]\n",
      " [0.87273599 0.12726401]\n",
      " [0.6269354  0.3730646 ]\n",
      " [0.40178887 0.59821113]\n",
      " [0.81773361 0.18226639]\n",
      " [0.91420461 0.08579539]\n",
      " [0.4662413  0.5337587 ]\n",
      " [0.93718124 0.06281876]\n",
      " [0.92198901 0.07801099]\n",
      " [0.67317079 0.32682921]\n",
      " [0.91877196 0.08122804]\n",
      " [0.92822726 0.07177274]\n",
      " [0.90796277 0.09203723]\n",
      " [0.86761523 0.13238477]\n",
      " [0.79102322 0.20897678]\n",
      " [0.92111748 0.07888252]\n",
      " [0.35744562 0.64255438]\n",
      " [0.89954969 0.10045031]\n",
      " [0.81908359 0.18091641]\n",
      " [0.22806871 0.77193129]\n",
      " [0.88205439 0.11794561]\n",
      " [0.26257985 0.73742015]\n",
      " [0.86654162 0.13345838]\n",
      " [0.53114392 0.46885608]\n",
      " [0.05015939 0.94984061]\n",
      " [0.35717674 0.64282326]\n",
      " [0.24484326 0.75515674]\n",
      " [0.9795449  0.0204551 ]\n",
      " [0.75396314 0.24603686]\n",
      " [0.16139781 0.83860219]\n",
      " [0.72695817 0.27304183]\n",
      " [0.81360584 0.18639416]\n",
      " [0.89066866 0.10933134]\n",
      " [0.77095327 0.22904673]\n",
      " [0.89250585 0.10749415]\n",
      " [0.89496107 0.10503893]\n",
      " [0.77882831 0.22117169]\n",
      " [0.82627301 0.17372699]\n",
      " [0.75087727 0.24912273]\n",
      " [0.46030882 0.53969118]\n",
      " [0.87240365 0.12759635]\n",
      " [0.60960766 0.39039234]\n",
      " [0.8871739  0.1128261 ]\n",
      " [0.88422283 0.11577717]\n",
      " [0.93449852 0.06550148]\n",
      " [0.8514047  0.1485953 ]\n",
      " [0.1719708  0.8280292 ]\n",
      " [0.85534544 0.14465456]\n",
      " [0.05153933 0.94846067]\n",
      " [0.51787003 0.48212997]\n",
      " [0.97466547 0.02533453]\n",
      " [0.37671571 0.62328429]\n",
      " [0.7660305  0.2339695 ]\n",
      " [0.58919594 0.41080406]\n",
      " [0.87656316 0.12343684]\n",
      " [0.81082072 0.18917928]\n",
      " [0.90539224 0.09460776]]\n"
     ]
    }
   ],
   "source": [
    "y_proba = log_reg.predict_proba(X_test)\n",
    "\n",
    "print(y_proba)"
   ]
  },
  {
   "cell_type": "markdown",
   "id": "94a0b446",
   "metadata": {},
   "source": [
    "## Evaluation de la perfomance du modèle"
   ]
  },
  {
   "cell_type": "markdown",
   "id": "c41eb289",
   "metadata": {},
   "source": [
    "### acuracy score"
   ]
  },
  {
   "cell_type": "code",
   "execution_count": 18,
   "id": "ac0cd469",
   "metadata": {},
   "outputs": [
    {
     "data": {
      "text/plain": [
       "0.8020833333333334"
      ]
     },
     "execution_count": 18,
     "metadata": {},
     "output_type": "execute_result"
    }
   ],
   "source": [
    "from sklearn.metrics import accuracy_score\n",
    "\n",
    "accuracy_score(y_test, y_pred)"
   ]
  },
  {
   "cell_type": "markdown",
   "id": "7325f622",
   "metadata": {},
   "source": [
    "### confusion matrix"
   ]
  },
  {
   "cell_type": "code",
   "execution_count": 20,
   "id": "76827faf",
   "metadata": {},
   "outputs": [
    {
     "data": {
      "text/plain": [
       "<AxesSubplot:title={'center':'Confusion Matrix'}, xlabel='Predicted', ylabel='Actual'>"
      ]
     },
     "execution_count": 20,
     "metadata": {},
     "output_type": "execute_result"
    },
    {
     "data": {
      "image/png": "[encoded data removed]",
      "text/plain": [
       "<Figure size 144x144 with 2 Axes>"
      ]
     },
     "metadata": {
      "needs_background": "light"
     },
     "output_type": "display_data"
    }
   ],
   "source": [
    "from sklearn.metrics import confusion_matrix\n",
    "\n",
    "cm = confusion_matrix(y_test, y_pred)\n",
    "\n",
    "df_cm = pd.DataFrame(cm, columns=np.unique(y_test), index = np.unique(y_test))\n",
    "df_cm.index.name = 'Actual'\n",
    "df_cm.columns.name = 'Predicted'\n",
    "\n",
    "plt.figure(figsize = (2,2))\n",
    "sns.set(font_scale=1.4)#for label size\n",
    "plt.title('Confusion Matrix')\n",
    "sns.heatmap(df_cm, annot=True,annot_kws={\"size\": 12})# font size"
   ]
  },
  {
   "cell_type": "code",
   "execution_count": 21,
   "id": "69ebe528",
   "metadata": {},
   "outputs": [
    {
     "name": "stdout",
     "output_type": "stream",
     "text": [
      "Recall = 0.581\n",
      "Precision_measure = 0.750\n",
      "F1_measure = 0.655\n"
     ]
    }
   ],
   "source": [
    "from sklearn.metrics import precision_score, recall_score, f1_score, classification_report\n",
    "\n",
    "print('Recall = {:0.3f}'.format(recall_score(y_test, y_pred)))\n",
    "print('Precision_measure = {:0.3f}'.format(precision_score(y_test, y_pred)))\n",
    "print('F1_measure = {:0.3f}'.format(f1_score(y_test, y_pred)))"
   ]
  },
  {
   "cell_type": "markdown",
   "id": "5ed3ee8d",
   "metadata": {},
   "source": [
    "## Autres classifieurs binaires dans la bibliothèque Scikit-Learn"
   ]
  },
  {
   "cell_type": "code",
   "execution_count": 22,
   "id": "16bfcdfe",
   "metadata": {},
   "outputs": [],
   "source": [
    "models = {}\n",
    "\n",
    "# Logistic Regression\n",
    "from sklearn.linear_model import LogisticRegression\n",
    "models['Logistic Regression'] = LogisticRegression()\n",
    "\n",
    "# Support Vector Machines\n",
    "from sklearn.svm import LinearSVC\n",
    "models['Support Vector Machines'] = LinearSVC()\n",
    "\n",
    "# Decision Trees\n",
    "from sklearn.tree import DecisionTreeClassifier\n",
    "models['Decision Trees'] = DecisionTreeClassifier()\n",
    "\n",
    "# Random Forest\n",
    "from sklearn.ensemble import RandomForestClassifier\n",
    "models['Random Forest'] = RandomForestClassifier()\n",
    "\n",
    "# Naive Bayes\n",
    "from sklearn.naive_bayes import GaussianNB\n",
    "models['Naive Bayes'] = GaussianNB()\n",
    "\n",
    "# K-Nearest Neighbors\n",
    "from sklearn.neighbors import KNeighborsClassifier\n",
    "models['K-Nearest Neighbor'] = KNeighborsClassifier()"
   ]
  },
  {
   "cell_type": "code",
   "execution_count": 23,
   "id": "ebd8fecc",
   "metadata": {},
   "outputs": [
    {
     "name": "stderr",
     "output_type": "stream",
     "text": [
      "C:\\Users\\Mostafa\\Documents\\machine learning\\regression\\venv\\lib\\site-packages\\sklearn\\svm\\_base.py:1206: ConvergenceWarning: Liblinear failed to converge, increase the number of iterations.\n",
      "  warnings.warn(\n"
     ]
    }
   ],
   "source": [
    "accuracy, precision, recall = {}, {}, {}\n",
    "\n",
    "for key in models.keys():\n",
    "    \n",
    "    # Fit the classifier model\n",
    "    models[key].fit(X_train, y_train)\n",
    "    \n",
    "    # Prediction \n",
    "    predictions = models[key].predict(X_test)\n",
    "    \n",
    "    # Calculate Accuracy, Precision and Recall Metrics\n",
    "    accuracy[key] = accuracy_score(predictions, y_test)\n",
    "    precision[key] = precision_score(predictions, y_test)\n",
    "    recall[key] = recall_score(predictions, y_test)"
   ]
  },
  {
   "cell_type": "code",
   "execution_count": 24,
   "id": "5d5c65f3",
   "metadata": {},
   "outputs": [
    {
     "data": {
      "text/html": [
       "<div>\n",
       "<style scoped>\n",
       "    .dataframe tbody tr th:only-of-type {\n",
       "        vertical-align: middle;\n",
       "    }\n",
       "\n",
       "    .dataframe tbody tr th {\n",
       "        vertical-align: top;\n",
       "    }\n",
       "\n",
       "    .dataframe thead th {\n",
       "        text-align: right;\n",
       "    }\n",
       "</style>\n",
       "<table border=\"1\" class=\"dataframe\">\n",
       "  <thead>\n",
       "    <tr style=\"text-align: right;\">\n",
       "      <th></th>\n",
       "      <th>Accuracy</th>\n",
       "      <th>Precision</th>\n",
       "      <th>Recall</th>\n",
       "    </tr>\n",
       "  </thead>\n",
       "  <tbody>\n",
       "    <tr>\n",
       "      <th>Logistic Regression</th>\n",
       "      <td>0.802083</td>\n",
       "      <td>0.580645</td>\n",
       "      <td>0.750000</td>\n",
       "    </tr>\n",
       "    <tr>\n",
       "      <th>Support Vector Machines</th>\n",
       "      <td>0.796875</td>\n",
       "      <td>0.580645</td>\n",
       "      <td>0.734694</td>\n",
       "    </tr>\n",
       "    <tr>\n",
       "      <th>Decision Trees</th>\n",
       "      <td>0.744792</td>\n",
       "      <td>0.629032</td>\n",
       "      <td>0.600000</td>\n",
       "    </tr>\n",
       "    <tr>\n",
       "      <th>Random Forest</th>\n",
       "      <td>0.776042</td>\n",
       "      <td>0.564516</td>\n",
       "      <td>0.686275</td>\n",
       "    </tr>\n",
       "    <tr>\n",
       "      <th>Naive Bayes</th>\n",
       "      <td>0.765625</td>\n",
       "      <td>0.532258</td>\n",
       "      <td>0.673469</td>\n",
       "    </tr>\n",
       "    <tr>\n",
       "      <th>K-Nearest Neighbor</th>\n",
       "      <td>0.807292</td>\n",
       "      <td>0.645161</td>\n",
       "      <td>0.727273</td>\n",
       "    </tr>\n",
       "  </tbody>\n",
       "</table>\n",
       "</div>"
      ],
      "text/plain": [
       "                         Accuracy  Precision    Recall\n",
       "Logistic Regression      0.802083   0.580645  0.750000\n",
       "Support Vector Machines  0.796875   0.580645  0.734694\n",
       "Decision Trees           0.744792   0.629032  0.600000\n",
       "Random Forest            0.776042   0.564516  0.686275\n",
       "Naive Bayes              0.765625   0.532258  0.673469\n",
       "K-Nearest Neighbor       0.807292   0.645161  0.727273"
      ]
     },
     "execution_count": 24,
     "metadata": {},
     "output_type": "execute_result"
    }
   ],
   "source": [
    "import pandas as pd\n",
    "\n",
    "df_model = pd.DataFrame(index=models.keys(), columns=['Accuracy', 'Precision', 'Recall'])\n",
    "df_model['Accuracy'] = accuracy.values()\n",
    "df_model['Precision'] = precision.values()\n",
    "df_model['Recall'] = recall.values()\n",
    "\n",
    "df_model"
   ]
  },
  {
   "cell_type": "code",
   "execution_count": 25,
   "id": "08591d24",
   "metadata": {},
   "outputs": [
    {
     "data": {
      "image/png": "[encoded data removed]",
      "text/plain": [
       "<Figure size 432x288 with 1 Axes>"
      ]
     },
     "metadata": {},
     "output_type": "display_data"
    }
   ],
   "source": [
    "ax  = df_model.plot.bar(rot=45)\n",
    "ax.legend(ncol= len(models.keys()), bbox_to_anchor=(0, 1), loc='lower left', prop={'size': 14})\n",
    "plt.tight_layout()"
   ]
  }
 ],
 "metadata": {
  "kernelspec": {
   "display_name": "Python 3 (ipykernel)",
   "language": "python",
   "name": "python3"
  },
  "language_info": {
   "codemirror_mode": {
    "name": "ipython",
    "version": 3
   },
   "file_extension": ".py",
   "mimetype": "text/x-python",
   "name": "python",
   "nbconvert_exporter": "python",
   "pygments_lexer": "ipython3",
   "version": "3.10.2"
  }
 },
 "nbformat": 4,
 "nbformat_minor": 5
}
