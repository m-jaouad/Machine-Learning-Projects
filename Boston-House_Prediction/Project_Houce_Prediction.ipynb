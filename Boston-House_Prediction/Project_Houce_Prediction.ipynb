{
 "cells": [
  {
   "cell_type": "code",
   "execution_count": 1,
   "id": "d721dd01",
   "metadata": {},
   "outputs": [],
   "source": [
    "import numpy as np\n",
    "import pandas as pd \n",
    "import matplotlib.pyplot as plt \n",
    "%matplotlib inline"
   ]
  },
  {
   "cell_type": "code",
   "execution_count": 54,
   "id": "05b7cf4c",
   "metadata": {},
   "outputs": [],
   "source": [
    "from sklearn.preprocessing import PolynomialFeatures\n",
    "from sklearn.model_selection import train_test_split \n",
    "from sklearn.metrics import mean_absolute_error, mean_squared_error, r2_score\n",
    "\n",
    "# this function train a model , after transforming a data into a specifc degrees , \n",
    "# return the trained model , and the prediction on the train set and the test set \n",
    "\n",
    "def reg_model (X_train, X_test, y_train, y_test, degrees , Model):\n",
    "    # transfomer les données en degrees superieur\n",
    "    X_data_poly = PolynomialFeatures(degree=degrees).fit_transform(X_train)\n",
    "    \n",
    "    regression_model = Model.fit(X_data_poly, y_train)\n",
    "     \n",
    "    # faire un prediction \n",
    "    pred_train = regression_model.predict(X_data_poly)\n",
    "    \n",
    "    # transformer the features in the test set \n",
    "    X_data_test_poly = PolynomialFeatures(degree=degrees).fit_transform(X_test)\n",
    "    \n",
    "    # faire les predictions on the test set \n",
    "    pred_test = regression_model.predict(X_data_test_poly)\n",
    "    \n",
    "    \n",
    "    # calcul the training error here also \n",
    "    \n",
    "    print(\"*****************Evaluation de la performance du modèle sur l'ensemble d'entrainement*****************\")\n",
    "    print(\"MAE_Train=\",mean_absolute_error(y_train,pred_train))\n",
    "    print(\"MSE_Train=\",mean_squared_error(y_train,pred_train))\n",
    "    print(\"RMSE_Train=\",mean_squared_error(y_train,pred_train,squared=False))\n",
    "    print(\"R-squared_Train=\",r2_score(y_train,pred_train))\n",
    "    \n",
    "    \n",
    "    # calcul of the test error here also \n",
    "    \n",
    "    print(\"*****************Evaluation de la performance du modèle sur l'ensemble de test *****************\")\n",
    "    print(\"MAE_Test=\",mean_absolute_error(y_test,pred_test))\n",
    "    print(\"MSE_Test=\",mean_squared_error(y_test,pred_test))\n",
    "    print(\"RMSE_Test=\",mean_squared_error(y_test,pred_test,squared=False))\n",
    "    print(\"R-squared_Test=\",r2_score(y_test,pred_test))\n",
    "    \n",
    "    \n",
    "    return regression_model, pred_train, pred_test"
   ]
  },
  {
   "cell_type": "markdown",
   "id": "ff6959ed",
   "metadata": {},
   "source": [
    "# Exploration Et Visualization des Données"
   ]
  },
  {
   "cell_type": "code",
   "execution_count": 3,
   "id": "95c36f8a",
   "metadata": {},
   "outputs": [],
   "source": [
    "#Chargez l'ensemble de données sur le logement de Boston à partir de sklearn.datasets\n",
    "from sklearn.datasets import load_boston\n",
    "boston_dataset = load_boston()\n",
    "\n",
    "# transformer the data into dataframe\n",
    "data = pd.DataFrame(data=boston_dataset[\"data\"], columns=boston_dataset[\"feature_names\"])"
   ]
  },
  {
   "cell_type": "code",
   "execution_count": 7,
   "id": "d9e4dc57",
   "metadata": {},
   "outputs": [],
   "source": [
    "# add the target variable to the dataFrame\n",
    "data[\"MEDV\"] = boston_dataset[\"target\"]"
   ]
  },
  {
   "cell_type": "code",
   "execution_count": 4,
   "id": "b0198467",
   "metadata": {},
   "outputs": [
    {
     "name": "stdout",
     "output_type": "stream",
     "text": [
      ".. _boston_dataset:\n",
      "\n",
      "Boston house prices dataset\n",
      "---------------------------\n",
      "\n",
      "**Data Set Characteristics:**  \n",
      "\n",
      "    :Number of Instances: 506 \n",
      "\n",
      "    :Number of Attributes: 13 numeric/categorical predictive. Median Value (attribute 14) is usually the target.\n",
      "\n",
      "    :Attribute Information (in order):\n",
      "        - CRIM     per capita crime rate by town\n",
      "        - ZN       proportion of residential land zoned for lots over 25,000 sq.ft.\n",
      "        - INDUS    proportion of non-retail business acres per town\n",
      "        - CHAS     Charles River dummy variable (= 1 if tract bounds river; 0 otherwise)\n",
      "        - NOX      nitric oxides concentration (parts per 10 million)\n",
      "        - RM       average number of rooms per dwelling\n",
      "        - AGE      proportion of owner-occupied units built prior to 1940\n",
      "        - DIS      weighted distances to five Boston employment centres\n",
      "        - RAD      index of accessibility to radial highways\n",
      "        - TAX      full-value property-tax rate per $10,000\n",
      "        - PTRATIO  pupil-teacher ratio by town\n",
      "        - B        1000(Bk - 0.63)^2 where Bk is the proportion of black people by town\n",
      "        - LSTAT    % lower status of the population\n",
      "        - MEDV     Median value of owner-occupied homes in $1000's\n",
      "\n",
      "    :Missing Attribute Values: None\n",
      "\n",
      "    :Creator: Harrison, D. and Rubinfeld, D.L.\n",
      "\n",
      "This is a copy of UCI ML housing dataset.\n",
      "https://archive.ics.uci.edu/ml/machine-learning-databases/housing/\n",
      "\n",
      "\n",
      "This dataset was taken from the StatLib library which is maintained at Carnegie Mellon University.\n",
      "\n",
      "The Boston house-price data of Harrison, D. and Rubinfeld, D.L. 'Hedonic\n",
      "prices and the demand for clean air', J. Environ. Economics & Management,\n",
      "vol.5, 81-102, 1978.   Used in Belsley, Kuh & Welsch, 'Regression diagnostics\n",
      "...', Wiley, 1980.   N.B. Various transformations are used in the table on\n",
      "pages 244-261 of the latter.\n",
      "\n",
      "The Boston house-price data has been used in many machine learning papers that address regression\n",
      "problems.   \n",
      "     \n",
      ".. topic:: References\n",
      "\n",
      "   - Belsley, Kuh & Welsch, 'Regression diagnostics: Identifying Influential Data and Sources of Collinearity', Wiley, 1980. 244-261.\n",
      "   - Quinlan,R. (1993). Combining Instance-Based and Model-Based Learning. In Proceedings on the Tenth International Conference of Machine Learning, 236-243, University of Massachusetts, Amherst. Morgan Kaufmann.\n",
      "\n"
     ]
    }
   ],
   "source": [
    "# une description des données \n",
    "print(boston_dataset[\"DESCR\"])"
   ]
  },
  {
   "cell_type": "code",
   "execution_count": 8,
   "id": "d126aa75",
   "metadata": {},
   "outputs": [
    {
     "data": {
      "text/html": [
       "<div>\n",
       "<style scoped>\n",
       "    .dataframe tbody tr th:only-of-type {\n",
       "        vertical-align: middle;\n",
       "    }\n",
       "\n",
       "    .dataframe tbody tr th {\n",
       "        vertical-align: top;\n",
       "    }\n",
       "\n",
       "    .dataframe thead th {\n",
       "        text-align: right;\n",
       "    }\n",
       "</style>\n",
       "<table border=\"1\" class=\"dataframe\">\n",
       "  <thead>\n",
       "    <tr style=\"text-align: right;\">\n",
       "      <th></th>\n",
       "      <th>CRIM</th>\n",
       "      <th>ZN</th>\n",
       "      <th>INDUS</th>\n",
       "      <th>CHAS</th>\n",
       "      <th>NOX</th>\n",
       "      <th>RM</th>\n",
       "      <th>AGE</th>\n",
       "      <th>DIS</th>\n",
       "      <th>RAD</th>\n",
       "      <th>TAX</th>\n",
       "      <th>PTRATIO</th>\n",
       "      <th>B</th>\n",
       "      <th>LSTAT</th>\n",
       "      <th>MEDV</th>\n",
       "    </tr>\n",
       "  </thead>\n",
       "  <tbody>\n",
       "    <tr>\n",
       "      <th>0</th>\n",
       "      <td>0.00632</td>\n",
       "      <td>18.0</td>\n",
       "      <td>2.31</td>\n",
       "      <td>0.0</td>\n",
       "      <td>0.538</td>\n",
       "      <td>6.575</td>\n",
       "      <td>65.2</td>\n",
       "      <td>4.0900</td>\n",
       "      <td>1.0</td>\n",
       "      <td>296.0</td>\n",
       "      <td>15.3</td>\n",
       "      <td>396.90</td>\n",
       "      <td>4.98</td>\n",
       "      <td>24.0</td>\n",
       "    </tr>\n",
       "    <tr>\n",
       "      <th>1</th>\n",
       "      <td>0.02731</td>\n",
       "      <td>0.0</td>\n",
       "      <td>7.07</td>\n",
       "      <td>0.0</td>\n",
       "      <td>0.469</td>\n",
       "      <td>6.421</td>\n",
       "      <td>78.9</td>\n",
       "      <td>4.9671</td>\n",
       "      <td>2.0</td>\n",
       "      <td>242.0</td>\n",
       "      <td>17.8</td>\n",
       "      <td>396.90</td>\n",
       "      <td>9.14</td>\n",
       "      <td>21.6</td>\n",
       "    </tr>\n",
       "    <tr>\n",
       "      <th>2</th>\n",
       "      <td>0.02729</td>\n",
       "      <td>0.0</td>\n",
       "      <td>7.07</td>\n",
       "      <td>0.0</td>\n",
       "      <td>0.469</td>\n",
       "      <td>7.185</td>\n",
       "      <td>61.1</td>\n",
       "      <td>4.9671</td>\n",
       "      <td>2.0</td>\n",
       "      <td>242.0</td>\n",
       "      <td>17.8</td>\n",
       "      <td>392.83</td>\n",
       "      <td>4.03</td>\n",
       "      <td>34.7</td>\n",
       "    </tr>\n",
       "    <tr>\n",
       "      <th>3</th>\n",
       "      <td>0.03237</td>\n",
       "      <td>0.0</td>\n",
       "      <td>2.18</td>\n",
       "      <td>0.0</td>\n",
       "      <td>0.458</td>\n",
       "      <td>6.998</td>\n",
       "      <td>45.8</td>\n",
       "      <td>6.0622</td>\n",
       "      <td>3.0</td>\n",
       "      <td>222.0</td>\n",
       "      <td>18.7</td>\n",
       "      <td>394.63</td>\n",
       "      <td>2.94</td>\n",
       "      <td>33.4</td>\n",
       "    </tr>\n",
       "    <tr>\n",
       "      <th>4</th>\n",
       "      <td>0.06905</td>\n",
       "      <td>0.0</td>\n",
       "      <td>2.18</td>\n",
       "      <td>0.0</td>\n",
       "      <td>0.458</td>\n",
       "      <td>7.147</td>\n",
       "      <td>54.2</td>\n",
       "      <td>6.0622</td>\n",
       "      <td>3.0</td>\n",
       "      <td>222.0</td>\n",
       "      <td>18.7</td>\n",
       "      <td>396.90</td>\n",
       "      <td>5.33</td>\n",
       "      <td>36.2</td>\n",
       "    </tr>\n",
       "  </tbody>\n",
       "</table>\n",
       "</div>"
      ],
      "text/plain": [
       "      CRIM    ZN  INDUS  CHAS    NOX     RM   AGE     DIS  RAD    TAX  \\\n",
       "0  0.00632  18.0   2.31   0.0  0.538  6.575  65.2  4.0900  1.0  296.0   \n",
       "1  0.02731   0.0   7.07   0.0  0.469  6.421  78.9  4.9671  2.0  242.0   \n",
       "2  0.02729   0.0   7.07   0.0  0.469  7.185  61.1  4.9671  2.0  242.0   \n",
       "3  0.03237   0.0   2.18   0.0  0.458  6.998  45.8  6.0622  3.0  222.0   \n",
       "4  0.06905   0.0   2.18   0.0  0.458  7.147  54.2  6.0622  3.0  222.0   \n",
       "\n",
       "   PTRATIO       B  LSTAT  MEDV  \n",
       "0     15.3  396.90   4.98  24.0  \n",
       "1     17.8  396.90   9.14  21.6  \n",
       "2     17.8  392.83   4.03  34.7  \n",
       "3     18.7  394.63   2.94  33.4  \n",
       "4     18.7  396.90   5.33  36.2  "
      ]
     },
     "execution_count": 8,
     "metadata": {},
     "output_type": "execute_result"
    }
   ],
   "source": [
    "data.head()"
   ]
  },
  {
   "cell_type": "code",
   "execution_count": 9,
   "id": "748d7d18",
   "metadata": {
    "scrolled": true
   },
   "outputs": [
    {
     "data": {
      "text/html": [
       "<div>\n",
       "<style scoped>\n",
       "    .dataframe tbody tr th:only-of-type {\n",
       "        vertical-align: middle;\n",
       "    }\n",
       "\n",
       "    .dataframe tbody tr th {\n",
       "        vertical-align: top;\n",
       "    }\n",
       "\n",
       "    .dataframe thead th {\n",
       "        text-align: right;\n",
       "    }\n",
       "</style>\n",
       "<table border=\"1\" class=\"dataframe\">\n",
       "  <thead>\n",
       "    <tr style=\"text-align: right;\">\n",
       "      <th></th>\n",
       "      <th>CRIM</th>\n",
       "      <th>ZN</th>\n",
       "      <th>INDUS</th>\n",
       "      <th>CHAS</th>\n",
       "      <th>NOX</th>\n",
       "      <th>RM</th>\n",
       "      <th>AGE</th>\n",
       "      <th>DIS</th>\n",
       "      <th>RAD</th>\n",
       "      <th>TAX</th>\n",
       "      <th>PTRATIO</th>\n",
       "      <th>B</th>\n",
       "      <th>LSTAT</th>\n",
       "      <th>MEDV</th>\n",
       "    </tr>\n",
       "  </thead>\n",
       "  <tbody>\n",
       "    <tr>\n",
       "      <th>count</th>\n",
       "      <td>506.000000</td>\n",
       "      <td>506.000000</td>\n",
       "      <td>506.000000</td>\n",
       "      <td>506.000000</td>\n",
       "      <td>506.000000</td>\n",
       "      <td>506.000000</td>\n",
       "      <td>506.000000</td>\n",
       "      <td>506.000000</td>\n",
       "      <td>506.000000</td>\n",
       "      <td>506.000000</td>\n",
       "      <td>506.000000</td>\n",
       "      <td>506.000000</td>\n",
       "      <td>506.000000</td>\n",
       "      <td>506.000000</td>\n",
       "    </tr>\n",
       "    <tr>\n",
       "      <th>mean</th>\n",
       "      <td>3.613524</td>\n",
       "      <td>11.363636</td>\n",
       "      <td>11.136779</td>\n",
       "      <td>0.069170</td>\n",
       "      <td>0.554695</td>\n",
       "      <td>6.284634</td>\n",
       "      <td>68.574901</td>\n",
       "      <td>3.795043</td>\n",
       "      <td>9.549407</td>\n",
       "      <td>408.237154</td>\n",
       "      <td>18.455534</td>\n",
       "      <td>356.674032</td>\n",
       "      <td>12.653063</td>\n",
       "      <td>22.532806</td>\n",
       "    </tr>\n",
       "    <tr>\n",
       "      <th>std</th>\n",
       "      <td>8.601545</td>\n",
       "      <td>23.322453</td>\n",
       "      <td>6.860353</td>\n",
       "      <td>0.253994</td>\n",
       "      <td>0.115878</td>\n",
       "      <td>0.702617</td>\n",
       "      <td>28.148861</td>\n",
       "      <td>2.105710</td>\n",
       "      <td>8.707259</td>\n",
       "      <td>168.537116</td>\n",
       "      <td>2.164946</td>\n",
       "      <td>91.294864</td>\n",
       "      <td>7.141062</td>\n",
       "      <td>9.197104</td>\n",
       "    </tr>\n",
       "    <tr>\n",
       "      <th>min</th>\n",
       "      <td>0.006320</td>\n",
       "      <td>0.000000</td>\n",
       "      <td>0.460000</td>\n",
       "      <td>0.000000</td>\n",
       "      <td>0.385000</td>\n",
       "      <td>3.561000</td>\n",
       "      <td>2.900000</td>\n",
       "      <td>1.129600</td>\n",
       "      <td>1.000000</td>\n",
       "      <td>187.000000</td>\n",
       "      <td>12.600000</td>\n",
       "      <td>0.320000</td>\n",
       "      <td>1.730000</td>\n",
       "      <td>5.000000</td>\n",
       "    </tr>\n",
       "    <tr>\n",
       "      <th>25%</th>\n",
       "      <td>0.082045</td>\n",
       "      <td>0.000000</td>\n",
       "      <td>5.190000</td>\n",
       "      <td>0.000000</td>\n",
       "      <td>0.449000</td>\n",
       "      <td>5.885500</td>\n",
       "      <td>45.025000</td>\n",
       "      <td>2.100175</td>\n",
       "      <td>4.000000</td>\n",
       "      <td>279.000000</td>\n",
       "      <td>17.400000</td>\n",
       "      <td>375.377500</td>\n",
       "      <td>6.950000</td>\n",
       "      <td>17.025000</td>\n",
       "    </tr>\n",
       "    <tr>\n",
       "      <th>50%</th>\n",
       "      <td>0.256510</td>\n",
       "      <td>0.000000</td>\n",
       "      <td>9.690000</td>\n",
       "      <td>0.000000</td>\n",
       "      <td>0.538000</td>\n",
       "      <td>6.208500</td>\n",
       "      <td>77.500000</td>\n",
       "      <td>3.207450</td>\n",
       "      <td>5.000000</td>\n",
       "      <td>330.000000</td>\n",
       "      <td>19.050000</td>\n",
       "      <td>391.440000</td>\n",
       "      <td>11.360000</td>\n",
       "      <td>21.200000</td>\n",
       "    </tr>\n",
       "    <tr>\n",
       "      <th>75%</th>\n",
       "      <td>3.677083</td>\n",
       "      <td>12.500000</td>\n",
       "      <td>18.100000</td>\n",
       "      <td>0.000000</td>\n",
       "      <td>0.624000</td>\n",
       "      <td>6.623500</td>\n",
       "      <td>94.075000</td>\n",
       "      <td>5.188425</td>\n",
       "      <td>24.000000</td>\n",
       "      <td>666.000000</td>\n",
       "      <td>20.200000</td>\n",
       "      <td>396.225000</td>\n",
       "      <td>16.955000</td>\n",
       "      <td>25.000000</td>\n",
       "    </tr>\n",
       "    <tr>\n",
       "      <th>max</th>\n",
       "      <td>88.976200</td>\n",
       "      <td>100.000000</td>\n",
       "      <td>27.740000</td>\n",
       "      <td>1.000000</td>\n",
       "      <td>0.871000</td>\n",
       "      <td>8.780000</td>\n",
       "      <td>100.000000</td>\n",
       "      <td>12.126500</td>\n",
       "      <td>24.000000</td>\n",
       "      <td>711.000000</td>\n",
       "      <td>22.000000</td>\n",
       "      <td>396.900000</td>\n",
       "      <td>37.970000</td>\n",
       "      <td>50.000000</td>\n",
       "    </tr>\n",
       "  </tbody>\n",
       "</table>\n",
       "</div>"
      ],
      "text/plain": [
       "             CRIM          ZN       INDUS        CHAS         NOX          RM  \\\n",
       "count  506.000000  506.000000  506.000000  506.000000  506.000000  506.000000   \n",
       "mean     3.613524   11.363636   11.136779    0.069170    0.554695    6.284634   \n",
       "std      8.601545   23.322453    6.860353    0.253994    0.115878    0.702617   \n",
       "min      0.006320    0.000000    0.460000    0.000000    0.385000    3.561000   \n",
       "25%      0.082045    0.000000    5.190000    0.000000    0.449000    5.885500   \n",
       "50%      0.256510    0.000000    9.690000    0.000000    0.538000    6.208500   \n",
       "75%      3.677083   12.500000   18.100000    0.000000    0.624000    6.623500   \n",
       "max     88.976200  100.000000   27.740000    1.000000    0.871000    8.780000   \n",
       "\n",
       "              AGE         DIS         RAD         TAX     PTRATIO           B  \\\n",
       "count  506.000000  506.000000  506.000000  506.000000  506.000000  506.000000   \n",
       "mean    68.574901    3.795043    9.549407  408.237154   18.455534  356.674032   \n",
       "std     28.148861    2.105710    8.707259  168.537116    2.164946   91.294864   \n",
       "min      2.900000    1.129600    1.000000  187.000000   12.600000    0.320000   \n",
       "25%     45.025000    2.100175    4.000000  279.000000   17.400000  375.377500   \n",
       "50%     77.500000    3.207450    5.000000  330.000000   19.050000  391.440000   \n",
       "75%     94.075000    5.188425   24.000000  666.000000   20.200000  396.225000   \n",
       "max    100.000000   12.126500   24.000000  711.000000   22.000000  396.900000   \n",
       "\n",
       "            LSTAT        MEDV  \n",
       "count  506.000000  506.000000  \n",
       "mean    12.653063   22.532806  \n",
       "std      7.141062    9.197104  \n",
       "min      1.730000    5.000000  \n",
       "25%      6.950000   17.025000  \n",
       "50%     11.360000   21.200000  \n",
       "75%     16.955000   25.000000  \n",
       "max     37.970000   50.000000  "
      ]
     },
     "execution_count": 9,
     "metadata": {},
     "output_type": "execute_result"
    }
   ],
   "source": [
    "# des informations statéstiques \n",
    "data.describe()"
   ]
  },
  {
   "cell_type": "code",
   "execution_count": 11,
   "id": "6d54868c",
   "metadata": {},
   "outputs": [
    {
     "name": "stdout",
     "output_type": "stream",
     "text": [
      "<class 'pandas.core.frame.DataFrame'>\n",
      "RangeIndex: 506 entries, 0 to 505\n",
      "Data columns (total 14 columns):\n",
      " #   Column   Non-Null Count  Dtype  \n",
      "---  ------   --------------  -----  \n",
      " 0   CRIM     506 non-null    float64\n",
      " 1   ZN       506 non-null    float64\n",
      " 2   INDUS    506 non-null    float64\n",
      " 3   CHAS     506 non-null    float64\n",
      " 4   NOX      506 non-null    float64\n",
      " 5   RM       506 non-null    float64\n",
      " 6   AGE      506 non-null    float64\n",
      " 7   DIS      506 non-null    float64\n",
      " 8   RAD      506 non-null    float64\n",
      " 9   TAX      506 non-null    float64\n",
      " 10  PTRATIO  506 non-null    float64\n",
      " 11  B        506 non-null    float64\n",
      " 12  LSTAT    506 non-null    float64\n",
      " 13  MEDV     506 non-null    float64\n",
      "dtypes: float64(14)\n",
      "memory usage: 55.5 KB\n"
     ]
    }
   ],
   "source": [
    "data.info()"
   ]
  },
  {
   "cell_type": "markdown",
   "id": "98c08449",
   "metadata": {},
   "source": [
    "first look of the data : \n",
    "\n",
    "    1. no missing values \n",
    "    2. all features are numeric (no categorical varibales )\n",
    "    3. 506 samples , so it's a small dataset by machine learning standard "
   ]
  },
  {
   "cell_type": "code",
   "execution_count": 24,
   "id": "423c6319",
   "metadata": {},
   "outputs": [
    {
     "data": {
      "image/png": "[encoded data removed]",
      "text/plain": [
       "<Figure size 1440x720 with 14 Axes>"
      ]
     },
     "metadata": {
      "needs_background": "light"
     },
     "output_type": "display_data"
    }
   ],
   "source": [
    "# plottingt the histogram to see the distrubution of every varibale \n",
    "\n",
    "import seaborn as sns\n",
    "import matplotlib.pyplot as plt\n",
    "from scipy import stats\n",
    "\n",
    "fig, axs = plt.subplots(ncols=7, nrows=2, figsize=(20, 10))\n",
    "index = 0\n",
    "axs = axs.flatten()\n",
    "for k,v in data.items():\n",
    "    sns.histplot(v, ax=axs[index])\n",
    "    index += 1"
   ]
  },
  {
   "cell_type": "markdown",
   "id": "86518db9",
   "metadata": {},
   "source": [
    "\n",
    "\n",
    "The histogram  shows that columns CRIM, ZN, B has highly skewed distributions. \n",
    "Also MEDV looks to have a normal distribution (the predictions) and other colums seem to have normal or bimodel ditribution of data except CHAS (which is a discrete variable).\n"
   ]
  },
  {
   "cell_type": "code",
   "execution_count": 28,
   "id": "29238726",
   "metadata": {},
   "outputs": [
    {
     "data": {
      "image/png": "[encoded data removed]",
      "text/plain": [
       "<Figure size 1080x720 with 2 Axes>"
      ]
     },
     "metadata": {},
     "output_type": "display_data"
    }
   ],
   "source": [
    "# the correlation matrix \n",
    "sns.set(rc={'figure.figsize':(15,10)})\n",
    "correlation_matrix = data.corr().round(2).abs()\n",
    "# annot = True to print the values inside the square\n",
    "sns.heatmap(data=correlation_matrix, annot=True)\n",
    "plt.show()"
   ]
  },
  {
   "cell_type": "markdown",
   "id": "e439f9e6",
   "metadata": {},
   "source": [
    "From correlation matrix, we see TAX and RAD are highly correlated features. The columns LSTAT, INDUS, RM, TAX, NOX, PTRAIO has a correlation score above or close to  0.5 with MEDV which is a good indication of using as predictors"
   ]
  },
  {
   "cell_type": "markdown",
   "id": "9fbc3d6b",
   "metadata": {},
   "source": [
    "# Data-Preproccessing "
   ]
  },
  {
   "cell_type": "markdown",
   "id": "e4320993",
   "metadata": {},
   "source": [
    "### Feature selection based on the data analysis "
   ]
  },
  {
   "cell_type": "code",
   "execution_count": 29,
   "id": "b97a1203",
   "metadata": {},
   "outputs": [],
   "source": [
    "# based on the analysis above we gonna choose , in a moment the following  features\n",
    "# later on we gonna use the lasso model to choose the inmportant features automatically \n",
    "\n",
    "features = ['LSTAT', 'INDUS', 'NOX', 'PTRATIO', 'RM', 'TAX', 'RAD', 'AGE']\n",
    "\n",
    "target = \"MEDV\"\n",
    "# the dependent variables\n",
    "X = data[features]\n",
    "\n",
    "# the target variable \n",
    "y= data[target]"
   ]
  },
  {
   "cell_type": "code",
   "execution_count": 36,
   "id": "5dbf4f5c",
   "metadata": {},
   "outputs": [],
   "source": [
    "# split the data into train and test data \n",
    "from sklearn.model_selection import train_test_split\n",
    "\n",
    "X_train, X_test , y_train, y_test = train_test_split(X, y, test_size=0.2, random_state=42)"
   ]
  },
  {
   "cell_type": "markdown",
   "id": "b4554843",
   "metadata": {},
   "source": [
    "### Feature Scaling "
   ]
  },
  {
   "cell_type": "code",
   "execution_count": 55,
   "id": "8c160c2c",
   "metadata": {},
   "outputs": [],
   "source": [
    "# doing the feature scaling only for the depedent variables and only on the train set \n",
    "# we shoud use the same the scaller for the test set \n",
    "\n",
    "from sklearn.preprocessing import MinMaxScaler\n",
    "min_max_scaler = MinMaxScaler()\n",
    "min_max_scaler.fit_transform(X_train)\n",
    "X_train_scaled =pd.DataFrame(data=min_max_scaler.fit_transform(X_train), columns=features)\n",
    "X_test_scaled =pd.DataFrame(data=min_max_scaler.fit_transform(X_test), columns=features)"
   ]
  },
  {
   "cell_type": "code",
   "execution_count": 56,
   "id": "09832c1a",
   "metadata": {},
   "outputs": [
    {
     "data": {
      "text/html": [
       "<div>\n",
       "<style scoped>\n",
       "    .dataframe tbody tr th:only-of-type {\n",
       "        vertical-align: middle;\n",
       "    }\n",
       "\n",
       "    .dataframe tbody tr th {\n",
       "        vertical-align: top;\n",
       "    }\n",
       "\n",
       "    .dataframe thead th {\n",
       "        text-align: right;\n",
       "    }\n",
       "</style>\n",
       "<table border=\"1\" class=\"dataframe\">\n",
       "  <thead>\n",
       "    <tr style=\"text-align: right;\">\n",
       "      <th></th>\n",
       "      <th>LSTAT</th>\n",
       "      <th>INDUS</th>\n",
       "      <th>NOX</th>\n",
       "      <th>PTRATIO</th>\n",
       "      <th>RM</th>\n",
       "      <th>TAX</th>\n",
       "      <th>RAD</th>\n",
       "      <th>AGE</th>\n",
       "    </tr>\n",
       "  </thead>\n",
       "  <tbody>\n",
       "    <tr>\n",
       "      <th>0</th>\n",
       "      <td>0.639625</td>\n",
       "      <td>0.642963</td>\n",
       "      <td>0.471193</td>\n",
       "      <td>0.808511</td>\n",
       "      <td>0.293065</td>\n",
       "      <td>0.914122</td>\n",
       "      <td>1.000000</td>\n",
       "      <td>0.972194</td>\n",
       "    </tr>\n",
       "    <tr>\n",
       "      <th>1</th>\n",
       "      <td>0.185982</td>\n",
       "      <td>0.274074</td>\n",
       "      <td>0.314815</td>\n",
       "      <td>0.893617</td>\n",
       "      <td>0.400854</td>\n",
       "      <td>0.229008</td>\n",
       "      <td>0.130435</td>\n",
       "      <td>0.552008</td>\n",
       "    </tr>\n",
       "    <tr>\n",
       "      <th>2</th>\n",
       "      <td>0.168322</td>\n",
       "      <td>0.197037</td>\n",
       "      <td>0.108848</td>\n",
       "      <td>0.457447</td>\n",
       "      <td>0.440919</td>\n",
       "      <td>0.223282</td>\n",
       "      <td>0.000000</td>\n",
       "      <td>0.210093</td>\n",
       "    </tr>\n",
       "    <tr>\n",
       "      <th>3</th>\n",
       "      <td>0.594923</td>\n",
       "      <td>0.642963</td>\n",
       "      <td>0.471193</td>\n",
       "      <td>0.808511</td>\n",
       "      <td>0.455562</td>\n",
       "      <td>0.914122</td>\n",
       "      <td>1.000000</td>\n",
       "      <td>0.846550</td>\n",
       "    </tr>\n",
       "    <tr>\n",
       "      <th>4</th>\n",
       "      <td>0.263521</td>\n",
       "      <td>0.274074</td>\n",
       "      <td>0.314815</td>\n",
       "      <td>0.893617</td>\n",
       "      <td>0.379093</td>\n",
       "      <td>0.229008</td>\n",
       "      <td>0.130435</td>\n",
       "      <td>0.685891</td>\n",
       "    </tr>\n",
       "  </tbody>\n",
       "</table>\n",
       "</div>"
      ],
      "text/plain": [
       "      LSTAT     INDUS       NOX   PTRATIO        RM       TAX       RAD  \\\n",
       "0  0.639625  0.642963  0.471193  0.808511  0.293065  0.914122  1.000000   \n",
       "1  0.185982  0.274074  0.314815  0.893617  0.400854  0.229008  0.130435   \n",
       "2  0.168322  0.197037  0.108848  0.457447  0.440919  0.223282  0.000000   \n",
       "3  0.594923  0.642963  0.471193  0.808511  0.455562  0.914122  1.000000   \n",
       "4  0.263521  0.274074  0.314815  0.893617  0.379093  0.229008  0.130435   \n",
       "\n",
       "        AGE  \n",
       "0  0.972194  \n",
       "1  0.552008  \n",
       "2  0.210093  \n",
       "3  0.846550  \n",
       "4  0.685891  "
      ]
     },
     "execution_count": 56,
     "metadata": {},
     "output_type": "execute_result"
    }
   ],
   "source": [
    "X_train_scaled.head()"
   ]
  },
  {
   "cell_type": "code",
   "execution_count": 65,
   "id": "15f625e6",
   "metadata": {},
   "outputs": [
    {
     "name": "stdout",
     "output_type": "stream",
     "text": [
      "*****************Evaluation de la performance du modèle sur l'ensemble d'entrainement*****************\n",
      "MAE_Train= 3.657767857848485\n",
      "MSE_Train= 26.19855180419299\n",
      "RMSE_Train= 5.118452090641563\n",
      "R-squared_Train= 0.6984283952477763\n",
      "*****************Evaluation de la performance du modèle sur l'ensemble de test *****************\n",
      "MAE_Test= 4.562035403121009\n",
      "MSE_Test= 32.41058441063134\n",
      "RMSE_Test= 5.693029458085681\n",
      "R-squared_Test= 0.558040196292955\n"
     ]
    }
   ],
   "source": [
    "from sklearn.linear_model import LinearRegression\n",
    "\n",
    "model, pred_train, pred_test = reg_model(X_train_scaled,X_test_scaled, y_train, y_test, 1 ,LinearRegression())"
   ]
  },
  {
   "cell_type": "markdown",
   "id": "169bd3d1",
   "metadata": {},
   "source": [
    "the linear model is doing a really good job , with an MAE on the train set = 3.65 and on the test set = 4.56 "
   ]
  },
  {
   "cell_type": "markdown",
   "id": "96e4a019",
   "metadata": {},
   "source": [
    "### Script to Train Different Model with Different  Degrees "
   ]
  },
  {
   "cell_type": "code",
   "execution_count": null,
   "id": "40245ae7",
   "metadata": {},
   "outputs": [],
   "source": []
  },
  {
   "cell_type": "code",
   "execution_count": 71,
   "id": "43a5f40d",
   "metadata": {},
   "outputs": [],
   "source": [
    "# this fuction train a model (Linear model or another model ) , \n",
    "# and return the MAE for the trainSet and the testSet \n",
    "\n",
    "def train_model (X_train, X_test, y_train, y_test, degrees , Model):\n",
    "    # transfomer les données en degrees superieur\n",
    "    X_data_poly = PolynomialFeatures(degree=degrees).fit_transform(X_train)\n",
    "    \n",
    "    regression_model = Model.fit(X_data_poly, y_train)\n",
    "     \n",
    "    # faire un prediction \n",
    "    pred_train = regression_model.predict(X_data_poly)\n",
    "    \n",
    "    # transformer the features in the test set \n",
    "    X_data_test_poly = PolynomialFeatures(degree=degrees).fit_transform(X_test)\n",
    "    \n",
    "    # faire les predictions on the test set \n",
    "    pred_test = regression_model.predict(X_data_test_poly)\n",
    "    \n",
    "    return mean_absolute_error(y_train,pred_train), mean_absolute_error(y_test,pred_test)\n",
    "    "
   ]
  },
  {
   "cell_type": "code",
   "execution_count": 72,
   "id": "fd50a83a",
   "metadata": {},
   "outputs": [],
   "source": [
    "mae_train = [] \n",
    "mae_test = []\n",
    "\n",
    "for degree in range(1, 6):\n",
    "    a, b = train_model(X_train, X_test, y_train, y_test, degree, LinearRegression())\n",
    "    mae_train.append(a)\n",
    "    mae_test.append(b)"
   ]
  },
  {
   "cell_type": "markdown",
   "id": "373690f4",
   "metadata": {},
   "source": [
    "#### Plotting the Train Error and the Test error for the different model with the different degrees "
   ]
  },
  {
   "cell_type": "code",
   "execution_count": 124,
   "id": "2676cfa6",
   "metadata": {},
   "outputs": [
    {
     "data": {
      "image/png": "[encoded data removed]",
      "text/plain": [
       "<Figure size 576x396 with 1 Axes>"
      ]
     },
     "metadata": {},
     "output_type": "display_data"
    }
   ],
   "source": [
    "plt.rcParams[\"figure.figsize\"] = (8,5.5)\n",
    "plt.plot([1,2,3], mae_test[0:3], \"-.\" )\n",
    "plt.plot([1,2,3],mae_train[:3])\n",
    "\n",
    "# Function add a legend  \n",
    "plt.legend([\"test error\", \"train error\"], )\n",
    "\n",
    "plt.xlabel(\"degees\")\n",
    "plt.ylabel(\"Error \")\n",
    "plt.title(\"train Error vs Test Error\")\n",
    "plt.show()"
   ]
  },
  {
   "cell_type": "markdown",
   "id": "0641aaf7",
   "metadata": {},
   "source": [
    "as we can see the Linear regression with the degree = 2 ,  gives a good result on both and the train and test set "
   ]
  },
  {
   "cell_type": "markdown",
   "id": "98a40848",
   "metadata": {},
   "source": [
    "## Using Cross-Validation to Evaluate performance "
   ]
  },
  {
   "cell_type": "code",
   "execution_count": 155,
   "id": "8aa805fc",
   "metadata": {},
   "outputs": [],
   "source": [
    "# because we have a small dataSet , we don't gonna to split the data into trainset and testset on the cross validation \n",
    "# we gonna the data whitout splitting \n",
    "\n",
    "from sklearn.model_selection import cross_val_score\n",
    "from sklearn.preprocessing import MinMaxScaler\n",
    "\n",
    "# this function scale the data \n",
    "def scale_data (X, features) :\n",
    "    mn = MinMaxScaler()\n",
    "    mn.fit_transform(X)\n",
    "    X_scaled = pd.DataFrame(data=mn.fit_transform(X), columns=features)\n",
    "    return X_scaled\n",
    "\n",
    "def doing_cross_validation(models, X, y):\n",
    "    scores_mean = []\n",
    "    for model in models :\n",
    "        scores = cross_val_score(model, X, y, cv=5, scoring='neg_mean_squared_error')\n",
    "        scores_mean.append((-scores).mean())\n",
    "    return scores_mean "
   ]
  },
  {
   "cell_type": "code",
   "execution_count": 140,
   "id": "9601db73",
   "metadata": {},
   "outputs": [],
   "source": [
    "# scale the data \n",
    "features = ['LSTAT', 'INDUS', 'NOX', 'PTRATIO', 'RM', 'TAX', 'RAD', 'AGE']\n",
    "X_scaled = scale_data(X, features)"
   ]
  },
  {
   "cell_type": "code",
   "execution_count": 156,
   "id": "75c99b18",
   "metadata": {},
   "outputs": [],
   "source": [
    "# a script which use validation on a multiple model \n",
    "from sklearn.linear_model import LinearRegression, Lasso, Ridge \n",
    "scores_mean = []\n",
    "# cross validation on linear regression model with different degrees \n",
    "for degree in range(1, 6) :\n",
    "    # transfomer les données en degrees superieur\n",
    "    X_data_poly = PolynomialFeatures(degree=degree).fit_transform(X_scaled)\n",
    "    scores_mean += doing_cross_validation([LinearRegression()], X_data_poly, y)\n",
    "\n",
    "# cross validation using the Lasso and Ridge Linear models \n",
    "models = [Lasso(alpha=1e-2), Ridge(alpha=1e-2)]\n",
    "scores_mean += doing_cross_validation(models,X_scaled, y )"
   ]
  },
  {
   "cell_type": "code",
   "execution_count": 157,
   "id": "09c0a64c",
   "metadata": {},
   "outputs": [
    {
     "data": {
      "text/plain": [
       "[38.806997468229454,\n",
       " 42.750645744276106,\n",
       " 3413.653756160226,\n",
       " 2.557258584833066e+17,\n",
       " 2451683685377202.5,\n",
       " 38.842883897380595,\n",
       " 38.76688773333234]"
      ]
     },
     "execution_count": 157,
     "metadata": {},
     "output_type": "execute_result"
    }
   ],
   "source": [
    "# this the MSE for the different model , the last two are the Lasso and Ridge models \n",
    "scores_mean"
   ]
  },
  {
   "cell_type": "markdown",
   "id": "56eb7745",
   "metadata": {},
   "source": [
    "as a conclusion we can say that the simple  linear regression with degree = 1 or the lasso or the ridge model are the good ones from the other linear models for that particular problem  "
   ]
  },
  {
   "cell_type": "markdown",
   "id": "aab6843a",
   "metadata": {},
   "source": [
    "### Feature Selection based on the Lasso model"
   ]
  },
  {
   "cell_type": "code",
   "execution_count": 159,
   "id": "751a19b4",
   "metadata": {},
   "outputs": [
    {
     "data": {
      "text/plain": [
       "Lasso(alpha=0.1)"
      ]
     },
     "execution_count": 159,
     "metadata": {},
     "output_type": "execute_result"
    }
   ],
   "source": [
    "from sklearn.linear_model import Lasso \n",
    "from sklearn.model_selection import train_test_split\n",
    "\n",
    "lasso = Lasso(alpha=0.1)\n",
    "\n",
    "features = ['CRIM', 'ZN', 'INDUS', 'CHAS', 'NOX', 'RM', 'AGE', 'DIS', 'RAD', 'TAX',\n",
    "       'PTRATIO', 'B', 'LSTAT']\n",
    "\n",
    "target = \"MEDV\"\n",
    "# the dependent variables\n",
    "X = data[features]\n",
    "\n",
    "# the target variable \n",
    "y= data[target]\n",
    "\n",
    "# split the data into train and test data \n",
    "X_train, X_test , y_train, y_test = train_test_split(X, y, test_size=0.2, random_state=42)\n",
    "\n",
    "# scaling the data \n",
    "X_train_scaled = scale_data(X_train, features)\n",
    "X_test_scaled = scale_data(X_test, features)\n",
    "\n",
    "\n",
    "lasso.fit(X_train_scaled, y_train)"
   ]
  },
  {
   "cell_type": "code",
   "execution_count": 160,
   "id": "c1014c4a",
   "metadata": {
    "scrolled": true
   },
   "outputs": [
    {
     "data": {
      "text/plain": [
       "array([ -0.        ,   0.        ,  -0.        ,   2.11854596,\n",
       "        -0.        ,  20.72683473,  -0.        ,  -1.97704304,\n",
       "        -0.        ,  -1.10008932,  -6.50376686,   3.53977148,\n",
       "       -18.6610809 ])"
      ]
     },
     "execution_count": 160,
     "metadata": {},
     "output_type": "execute_result"
    }
   ],
   "source": [
    "lasso.coef_"
   ]
  },
  {
   "cell_type": "code",
   "execution_count": 161,
   "id": "9f5676a4",
   "metadata": {},
   "outputs": [
    {
     "data": {
      "text/plain": [
       "<BarContainer object of 13 artists>"
      ]
     },
     "execution_count": 161,
     "metadata": {},
     "output_type": "execute_result"
    },
    {
     "data": {
      "image/png": "[encoded data removed]",
      "text/plain": [
       "<Figure size 576x396 with 1 Axes>"
      ]
     },
     "metadata": {},
     "output_type": "display_data"
    }
   ],
   "source": [
    "plt.bar(features, lasso.coef_)"
   ]
  },
  {
   "cell_type": "markdown",
   "id": "1acfcaf2",
   "metadata": {},
   "source": [
    "### Working with the Selected Features "
   ]
  },
  {
   "cell_type": "code",
   "execution_count": 162,
   "id": "872bb4da",
   "metadata": {},
   "outputs": [],
   "source": [
    "from sklearn.linear_model import Lasso \n",
    "from sklearn.model_selection import train_test_split\n",
    "\n",
    "lasso = Lasso(alpha=0.1)\n",
    "\n",
    "features = [  'CHAS',  'RM', 'DIS',  'TAX', 'PTRATIO', 'B', 'LSTAT']\n",
    "\n",
    "target = \"MEDV\"\n",
    "# the dependent variables\n",
    "X = data[features]\n",
    "\n",
    "# the target variable \n",
    "y= data[target]\n",
    "\n",
    "# split the data into train and test data \n",
    "X_train, X_test , y_train, y_test = train_test_split(X, y, test_size=0.2, random_state=42)\n",
    "\n",
    "# scaling the data \n",
    "X_train_scaled = scale_data(X_train, features)\n",
    "X_test_scaled = scale_data(X_test, features)"
   ]
  },
  {
   "cell_type": "code",
   "execution_count": 163,
   "id": "28e80569",
   "metadata": {},
   "outputs": [],
   "source": [
    "# a script which use validation on a multiple model \n",
    "\n",
    "# working with the data without splitting \n",
    "X_scaled = scale_data(X, features)\n",
    "\n",
    "from sklearn.linear_model import LinearRegression, Lasso, Ridge \n",
    "scores_mean = []\n",
    "# cross validation on linear regression model with different degrees \n",
    "for degree in range(1, 6) :\n",
    "    # transfomer les données en degrees superieur\n",
    "    X_data_poly = PolynomialFeatures(degree=degree).fit_transform(X_scaled)\n",
    "    scores_mean += doing_cross_validation([LinearRegression()], X_data_poly, y)\n",
    "\n",
    "# cross validation using the Lasso and Ridge Linear models \n",
    "models = [Lasso(alpha=1e-2), Ridge(alpha=1e-2)]\n",
    "scores_mean += doing_cross_validation(models,X_scaled, y )"
   ]
  },
  {
   "cell_type": "code",
   "execution_count": 164,
   "id": "9f8d3f16",
   "metadata": {},
   "outputs": [
    {
     "data": {
      "text/plain": [
       "[33.64416441571102,\n",
       " 8.94670833562193e+26,\n",
       " 2.4879440204081044e+27,\n",
       " 3433936.4210758163,\n",
       " 78656677803824.34,\n",
       " 34.04493357407266,\n",
       " 33.61900833506532]"
      ]
     },
     "execution_count": 164,
     "metadata": {},
     "output_type": "execute_result"
    }
   ],
   "source": [
    "scores_mean"
   ]
  },
  {
   "cell_type": "markdown",
   "id": "ef0580f6",
   "metadata": {},
   "source": [
    "## Conclusion "
   ]
  },
  {
   "cell_type": "markdown",
   "id": "11bd22c5",
   "metadata": {},
   "source": [
    "1. the data analysis gives almost the same features \n",
    "2. the linear regression with degree = 1 , the lasso or the ridge models are the good ones \n",
    "3. the Linear regression gives an MSE of : 33.64 "
   ]
  }
 ],
 "metadata": {
  "kernelspec": {
   "display_name": "Python 3 (ipykernel)",
   "language": "python",
   "name": "python3"
  },
  "language_info": {
   "codemirror_mode": {
    "name": "ipython",
    "version": 3
   },
   "file_extension": ".py",
   "mimetype": "text/x-python",
   "name": "python",
   "nbconvert_exporter": "python",
   "pygments_lexer": "ipython3",
   "version": "3.10.2"
  }
 },
 "nbformat": 4,
 "nbformat_minor": 5
}
